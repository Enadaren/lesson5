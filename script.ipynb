{
 "cells": [
  {
   "cell_type": "code",
   "execution_count": 2,
   "metadata": {},
   "outputs": [
    {
     "name": "stdout",
     "output_type": "stream",
     "text": [
      "76.82632075471697\n"
     ]
    }
   ],
   "source": [
    "import os\n",
    "a = int(input(\"Input 1st edge: \"))\n",
    "b = int(input(\"Input 2nd edge: \"))\n",
    "c = int(input(\"Input 3rd edge: \"))\n",
    "if (a + b > c) and (c + a > b) and (b + c > a):\n",
    "    p = (a + b + c) / 2\n",
    "    cos_alpha = (b ** 2 + c ** 2 - a ** 2)/(2 * b * c)\n",
    "    tg_alpha_2_2 = (1 - cos_alpha) / (1 + cos_alpha)\n",
    "    S = 3.14 * (p - a) ** 2 *tg_alpha_2_2\n",
    "    print(S)\n",
    "else:\n",
    "    print(\"Incorrect values of the edges\")"
   ]
  }
 ],
 "metadata": {
  "kernelspec": {
   "display_name": "lesson5env",
   "language": "python",
   "name": "python3"
  },
  "language_info": {
   "codemirror_mode": {
    "name": "ipython",
    "version": 3
   },
   "file_extension": ".py",
   "mimetype": "text/x-python",
   "name": "python",
   "nbconvert_exporter": "python",
   "pygments_lexer": "ipython3",
   "version": "3.10.12"
  }
 },
 "nbformat": 4,
 "nbformat_minor": 2
}
